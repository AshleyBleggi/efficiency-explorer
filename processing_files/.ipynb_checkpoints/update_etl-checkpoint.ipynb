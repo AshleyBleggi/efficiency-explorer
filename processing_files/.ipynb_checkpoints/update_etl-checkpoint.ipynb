{
 "cells": [
  {
   "cell_type": "markdown",
   "metadata": {},
   "source": [
    "# Setup cells"
   ]
  },
  {
   "cell_type": "markdown",
   "metadata": {},
   "source": [
    "#### Extract and transform routine (pull and process data from SCUBA)"
   ]
  },
  {
   "cell_type": "code",
   "execution_count": 56,
   "metadata": {
    "collapsed": false
   },
   "outputs": [],
   "source": [
    "import psycopg2 as pg\n",
    "import pandas.io.sql as psql\n",
    "\n",
    "# connect to database\n",
    "database = \"scuba\"\n",
    "user = \"dmarulli\"\n",
    "password = \"dmarulliStartPass\"\n",
    "host = \"cadc.cmkjdlb3gfiw.us-west-2.rds.amazonaws.com\"\n",
    "port = 5432 \n",
    "\n",
    "connection = pg.connect(database=database,\n",
    "                        user=user,\n",
    "                        password=password,\n",
    "                        host=host,\n",
    "                        port=port\n",
    "                        )\n",
    "\n",
    "anonymityDict = {\"MNWD\" : \"bfh5gpcbwjq4lzh0\"}\n",
    "\n",
    "def extract_and_transform(agencyID):\n",
    "    \n",
    "    dev_query = \"\"\"\n",
    "    \n",
    "    WITH cte_1 AS (\n",
    "        SELECT geoid10, cust_loc_hhsize, cust_loc_irr_area_sf, utility_name, cust_id_from_utility\n",
    "        FROM cust_loc, census_block_polygons_2010 \n",
    "        WHERE   ST_Within(ST_SetSRID(ST_Point(cust_loc.cust_loc_longitude,cust_loc.cust_loc_latitude),4326),\n",
    "                ST_SetSRID(census_block_polygons_2010.geom,4326))\n",
    "        AND utility_name = '%s'\n",
    "        LIMIT 10),\n",
    "    \n",
    "    cte_2 AS (\n",
    "        SELECT\n",
    "        usage_ccf, usage_et_amount, make_date(usage.usage_year, usage.usage_month, '01') usage_date,\n",
    "        cte_1.geoid10, cte_1.cust_loc_hhsize, cte_1.cust_loc_irr_area_sf, cte_1.utility_name, cte_1.cust_id_from_utility\n",
    "        FROM cte_1\n",
    "        JOIN usage\n",
    "        ON cte_1.cust_id_from_utility = usage.cust_id_from_utility),\n",
    "    \n",
    "    cte_3 AS (\n",
    "    SELECT *\n",
    "    FROM cte_2\n",
    "    JOIN et_reading\n",
    "    ON (et_reading.stn_id = cte_2.stn_id\n",
    "    AND et_reading.et_date = cte_2.usage_date)\n",
    "    )\n",
    "    \n",
    "   SELECT\n",
    "    geoid10,\n",
    "    usage_date,\n",
    "    SUM(cust_loc_hhsize) hhsize,\n",
    "    SUM(cust_loc_irr_area_sf) irr_area_sf,\n",
    "    SUM(usage_ccf) usage_ccf,\n",
    "    AVG(usage_et_amount) usage_et_amount\n",
    "    AVG(usage_et_amount) average_eto_cimis\n",
    "    \n",
    "    FROM\n",
    "    cte_3\n",
    "    GROUP BY\n",
    "    geoid10, usage_date\"\"\" % agencyID\n",
    "    \n",
    "    query = \"\"\"\n",
    "    WITH cte_1 AS (\n",
    "        SELECT geoid10, cust_loc_hhsize, COALESCE(cust_loc_irr_area_sf, 0) cust_loc_irr_area_sf, utility_name, cust_id_from_utility\n",
    "        FROM cust_loc, census_block_polygons_2010 \n",
    "        WHERE   ST_Within(cust_loc.geom,\n",
    "                ST_setSRID(census_block_polygons_2010.geom,4326))\n",
    "        AND (cust_loc_class = 'RESIDENTIAL_SINGLE'\n",
    "        OR cust_loc_class = 'RESIDENTIAL_MULTI') \n",
    "        AND utility_name = '%s'),\n",
    "    \n",
    "    cte_2 AS (\n",
    "        SELECT\n",
    "        usage_ccf, usage_et_amount, make_date(usage.usage_year, usage.usage_month, '01') usage_date,\n",
    "        cte_1.geoid10, cte_1.cust_loc_hhsize, cte_1.cust_loc_irr_area_sf, cte_1.utility_name, cte_1.cust_id_from_utility\n",
    "        FROM cte_1\n",
    "        JOIN usage\n",
    "        ON cte_1.cust_id_from_utility = usage.cust_id_from_utility)\n",
    "    \n",
    "    SELECT\n",
    "    geoid10,\n",
    "    usage_date,\n",
    "    SUM(cust_loc_hhsize) hhsize,\n",
    "    SUM(cust_loc_irr_area_sf) irr_area_sf,\n",
    "    SUM(usage_ccf) usage_ccf,\n",
    "    AVG(usage_et_amount) usage_et_amount\n",
    "    \n",
    "    FROM\n",
    "    cte_2\n",
    "    GROUP BY\n",
    "    geoid10, usage_date\"\"\" % agencyID\n",
    "    \n",
    "    tempDF = psql.read_sql(query, connection)\n",
    "    \n",
    "    path = \"./tempOut/\"\n",
    "    fname = \"%s_census_block_usage.csv\" % (anonymityDict[agencyID])\n",
    "    tempDF.to_csv(path+fname)"
   ]
  },
  {
   "cell_type": "markdown",
   "metadata": {},
   "source": [
    "#### Load routine (push processed data to CARTO)"
   ]
  },
  {
   "cell_type": "code",
   "execution_count": null,
   "metadata": {
    "collapsed": false
   },
   "outputs": [],
   "source": [
    "import requests\n",
    "\n",
    "username = \"california-data-collaborative\"\n",
    "apikey = \"dae2d77d6d8f40911576008b6159585c99ab6556\"\n",
    "\n",
    "def drop_old_table(agencyID):\n",
    "    sql = \"DROP TABLE %s_census_block_usage\" % (anonymityDict[agencyID])\n",
    "    url = \"https://%s.carto.com/api/v2/sql/?q=%s&api_key=%s\" % (username, sql, apikey)\n",
    "    response = requests.get(url)\n",
    "    \n",
    "def load_new_table(agencyID):\n",
    "    url = \"https://%s.carto.com/api/v1/imports/?privacy=link&api_key=%s\" % (username, apikey)\n",
    "    \n",
    "    path = \"./tempOUT/\"\n",
    "    fname =\"%s_census_block_usage.csv\" % (anonymityDict[agencyID])\n",
    "    f = {'file': open(path+fname)}\n",
    "    \n",
    "    response = requests.post(url, files=f)"
   ]
  },
  {
   "cell_type": "markdown",
   "metadata": {},
   "source": [
    "---\n",
    "# Execution cells"
   ]
  },
  {
   "cell_type": "code",
   "execution_count": 52,
   "metadata": {
    "collapsed": true
   },
   "outputs": [],
   "source": [
    "current_users = [\"MNWD\"]"
   ]
  },
  {
   "cell_type": "code",
   "execution_count": null,
   "metadata": {
    "collapsed": false
   },
   "outputs": [],
   "source": [
    "for agencyID in current_users:\n",
    "    extract_and_transform(agencyID)\n",
    "    drop_old_table(agencyID)"
   ]
  },
  {
   "cell_type": "markdown",
   "metadata": {},
   "source": [
    "Manually refresh account (to update account metadata)"
   ]
  },
  {
   "cell_type": "code",
   "execution_count": 54,
   "metadata": {
    "collapsed": false
   },
   "outputs": [],
   "source": [
    "for agencyID in current_users:\n",
    "    load_new_table(agencyID)"
   ]
  },
  {
   "cell_type": "markdown",
   "metadata": {},
   "source": [
    "Manually refresh account (to update account metadata)"
   ]
  }
 ],
 "metadata": {
  "kernelspec": {
   "display_name": "Python 2",
   "language": "python",
   "name": "python2"
  },
  "language_info": {
   "codemirror_mode": {
    "name": "ipython",
    "version": 2
   },
   "file_extension": ".py",
   "mimetype": "text/x-python",
   "name": "python",
   "nbconvert_exporter": "python",
   "pygments_lexer": "ipython2",
   "version": "2.7.12"
  }
 },
 "nbformat": 4,
 "nbformat_minor": 0
}
