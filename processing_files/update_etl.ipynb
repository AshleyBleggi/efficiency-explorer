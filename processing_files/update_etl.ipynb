{
 "cells": [
  {
   "cell_type": "markdown",
   "metadata": {},
   "source": [
    "# Setup cells"
   ]
  },
  {
   "cell_type": "markdown",
   "metadata": {},
   "source": [
    "#### Extract and transform routine (pull and process data from SCUBA)"
   ]
  },
  {
   "cell_type": "code",
   "execution_count": 1,
   "metadata": {
    "collapsed": false
   },
   "outputs": [],
   "source": [
    "import psycopg2 as pg\n",
    "import pandas.io.sql as psql\n",
    "import config\n",
    "\n",
    "# connect to database\n",
    "database = config.database\n",
    "user = config.user\n",
    "password = config.password\n",
    "host = config.host\n",
    "port = config.port\n",
    "\n",
    "connection = pg.connect(database=database,\n",
    "                        user=user,\n",
    "                        password=password,\n",
    "                        host=host,\n",
    "                        port=port\n",
    "                        )\n",
    "\n",
    "anonymityDict = config.anonymityDict\n",
    "\n",
    "def extract_and_transform(agencyID, where_clause):\n",
    "\n",
    "    query = \"\"\"\n",
    "    WITH cte_1 AS (\n",
    "        SELECT geoid10, cust_loc_hhsize, cust_loc_irr_area_sf, utility_name, cust_loc_id\n",
    "        FROM cust_loc, census_block_polygons_2010 \n",
    "        WHERE   ST_Within(cust_loc.geom,\n",
    "                ST_setSRID(census_block_polygons_2010.geom,4326))\n",
    "        AND (cust_loc_class = 'RESIDENTIAL_SINGLE'\n",
    "        OR cust_loc_class = 'RESIDENTIAL_MULTI') \n",
    "        AND utility_name = '%s'\n",
    "        %s),\n",
    "    \n",
    "    cte_2 AS (\n",
    "        SELECT\n",
    "        usage_ccf, usage_et_amount, make_date(usage.usage_year, usage.usage_month, '01') usage_date,\n",
    "        cte_1.geoid10, cte_1.cust_loc_hhsize, cte_1.cust_loc_irr_area_sf, cte_1.utility_name, cte_1.cust_loc_id\n",
    "        FROM cte_1\n",
    "        JOIN usage\n",
    "        ON cte_1.cust_loc_id = usage.cust_loc_id)\n",
    "    \n",
    "    SELECT\n",
    "    geoid10,\n",
    "    usage_date,\n",
    "    SUM(cust_loc_hhsize) hhsize,\n",
    "    SUM(cust_loc_irr_area_sf) irr_area_sf,\n",
    "    SUM(usage_ccf) usage_ccf,\n",
    "    AVG(usage_et_amount) usage_et_amount\n",
    "    \n",
    "    FROM\n",
    "    cte_2\n",
    "    GROUP BY\n",
    "    geoid10, usage_date\"\"\" % (agencyID, where_clause)\n",
    "    \n",
    "    tempDF = psql.read_sql(query, connection)\n",
    "    \n",
    "    path = \"./tempOut/\"\n",
    "    fname = \"%s_census_block_usage.csv\" % (anonymityDict[agencyID])\n",
    "    tempDF.to_csv(path+fname)"
   ]
  },
  {
   "cell_type": "markdown",
   "metadata": {},
   "source": [
    "#### Load routine (push processed data to CARTO)"
   ]
  },
  {
   "cell_type": "code",
   "execution_count": 2,
   "metadata": {
    "collapsed": false
   },
   "outputs": [],
   "source": [
    "import requests\n",
    "import config\n",
    "\n",
    "username = \"california-data-collaborative\"\n",
    "apikey = config.apikey\n",
    "\n",
    "def drop_old_table(agencyID):\n",
    "    sql = \"DROP TABLE %s_census_block_usage\" % (anonymityDict[agencyID])\n",
    "    url = \"https://%s.carto.com/api/v2/sql/?q=%s&api_key=%s\" % (username, sql, apikey)\n",
    "    response = requests.get(url)\n",
    "    \n",
    "def load_new_table(agencyID):\n",
    "    url = \"https://%s.carto.com/api/v1/imports/?privacy=link&api_key=%s\" % (username, apikey)\n",
    "    \n",
    "    path = \"./tempOUT/\"\n",
    "    fname =\"%s_census_block_usage.csv\" % (anonymityDict[agencyID])\n",
    "    f = {'file': open(path+fname)}\n",
    "    \n",
    "    response = requests.post(url, files=f)"
   ]
  },
  {
   "cell_type": "markdown",
   "metadata": {},
   "source": [
    "---\n",
    "# Execution cells"
   ]
  },
  {
   "cell_type": "code",
   "execution_count": 3,
   "metadata": {
    "collapsed": true
   },
   "outputs": [],
   "source": [
    "current_users = [{\"agencyID\":\"MNWD\", \"where_clause\":\"AND geoid10 != '060590626431004'\"}]"
   ]
  },
  {
   "cell_type": "code",
   "execution_count": 4,
   "metadata": {
    "collapsed": false
   },
   "outputs": [],
   "source": [
    "for user in current_users:\n",
    "    extract_and_transform(user['agencyID'], user['where_clause'])\n",
    "    drop_old_table(user['agencyID'])"
   ]
  },
  {
   "cell_type": "markdown",
   "metadata": {},
   "source": [
    "Manually refresh account (to update account metadata)"
   ]
  },
  {
   "cell_type": "code",
   "execution_count": null,
   "metadata": {
    "collapsed": false
   },
   "outputs": [],
   "source": [
    "for user in current_users:\n",
    "    load_new_table(user['agencyID'])"
   ]
  },
  {
   "cell_type": "markdown",
   "metadata": {},
   "source": [
    "Manually refresh account (to update account metadata)"
   ]
  }
 ],
 "metadata": {
  "kernelspec": {
   "display_name": "Python 2",
   "language": "python",
   "name": "python2"
  },
  "language_info": {
   "codemirror_mode": {
    "name": "ipython",
    "version": 2
   },
   "file_extension": ".py",
   "mimetype": "text/x-python",
   "name": "python",
   "nbconvert_exporter": "python",
   "pygments_lexer": "ipython2",
   "version": "2.7.12"
  }
 },
 "nbformat": 4,
 "nbformat_minor": 0
}
